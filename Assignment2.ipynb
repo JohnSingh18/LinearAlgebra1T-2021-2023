{
  "nbformat": 4,
  "nbformat_minor": 0,
  "metadata": {
    "colab": {
      "name": "Assignment2.ipynb",
      "provenance": [],
      "authorship_tag": "ABX9TyNGhgswxm1vnrRvfKt7GvY4",
      "include_colab_link": true
    },
    "kernelspec": {
      "name": "python3",
      "display_name": "Python 3"
    },
    "language_info": {
      "name": "python"
    }
  },
  "cells": [
    {
      "cell_type": "markdown",
      "metadata": {
        "id": "view-in-github",
        "colab_type": "text"
      },
      "source": [
        "<a href=\"https://colab.research.google.com/github/eugeneembalzado/LinearAlgebra1T-2021-2022/blob/main/Assignment2.ipynb\" target=\"_parent\"><img src=\"https://colab.research.google.com/assets/colab-badge.svg\" alt=\"Open In Colab\"/></a>"
      ]
    },
    {
      "cell_type": "markdown",
      "metadata": {
        "id": "YqrKFoET1kAC"
      },
      "source": [
        "# Welcome to Python Fundamentals\n",
        "In this module, we are going to establish our skills in Python programming. In this notebook we are going to cover:\n",
        "\n",
        "*   Variables and Data Types\n",
        "*   Operations\n",
        "*   Input and Output Operations\n",
        "*   Logic Control\n",
        "*   Iterables\n",
        "*   Functions"
      ]
    },
    {
      "cell_type": "markdown",
      "metadata": {
        "id": "myqKfvv82nyb"
      },
      "source": [
        "## Variables and Data Types"
      ]
    },
    {
      "cell_type": "code",
      "metadata": {
        "id": "cqBsQ7F6060E"
      },
      "source": [
        "x = 1\n",
        "a, b = 3, -2\n"
      ],
      "execution_count": null,
      "outputs": []
    },
    {
      "cell_type": "code",
      "metadata": {
        "id": "OI5DmboK3dhN"
      },
      "source": [
        "type(x)"
      ],
      "execution_count": null,
      "outputs": []
    },
    {
      "cell_type": "code",
      "metadata": {
        "id": "XpLV_smE3lUy"
      },
      "source": [
        "y = 3.0\n",
        "type(y)"
      ],
      "execution_count": null,
      "outputs": []
    },
    {
      "cell_type": "code",
      "metadata": {
        "id": "_fq2hfRy36ZF"
      },
      "source": [
        "x = float(x)\n",
        "type(x)"
      ],
      "execution_count": null,
      "outputs": []
    },
    {
      "cell_type": "code",
      "metadata": {
        "id": "9NWncpS64Ldj"
      },
      "source": [
        "s, t, u = \"1\", '3', 'three'\n",
        "type(u)"
      ],
      "execution_count": null,
      "outputs": []
    },
    {
      "cell_type": "markdown",
      "metadata": {
        "id": "4KCDnsr14noB"
      },
      "source": [
        "## Operations"
      ]
    },
    {
      "cell_type": "markdown",
      "metadata": {
        "id": "M0T77Y4O4tzi"
      },
      "source": [
        "### Arithmetic"
      ]
    },
    {
      "cell_type": "code",
      "metadata": {
        "id": "lx6ONzZl40VL"
      },
      "source": [
        "w, x, y, z = 4.0, -3.0, 2, -32"
      ],
      "execution_count": 70,
      "outputs": []
    },
    {
      "cell_type": "code",
      "metadata": {
        "colab": {
          "base_uri": "https://localhost:8080/"
        },
        "id": "cTggYHNf5G4E",
        "outputId": "986f8271-fc94-436c-ae34-e912ca5a146e"
      },
      "source": [
        "### Addition\n",
        "S = w + x"
      ],
      "execution_count": 23,
      "outputs": [
        {
          "output_type": "execute_result",
          "data": {
            "text/plain": [
              "1.0"
            ]
          },
          "metadata": {},
          "execution_count": 23
        }
      ]
    },
    {
      "cell_type": "code",
      "metadata": {
        "colab": {
          "base_uri": "https://localhost:8080/"
        },
        "id": "BCLaltuN5boL",
        "outputId": "d533c8dd-7816-4af1-d4ad-0f83ed58120d"
      },
      "source": [
        "### Subraction\n",
        "D = y - z"
      ],
      "execution_count": 18,
      "outputs": [
        {
          "output_type": "execute_result",
          "data": {
            "text/plain": [
              "33"
            ]
          },
          "metadata": {},
          "execution_count": 18
        }
      ]
    },
    {
      "cell_type": "code",
      "metadata": {
        "id": "Ss101LBw5gTY"
      },
      "source": [
        "### Multiplication\n",
        "P = w*z"
      ],
      "execution_count": 20,
      "outputs": []
    },
    {
      "cell_type": "code",
      "metadata": {
        "id": "5U3mOgAF5xpd"
      },
      "source": [
        "### Division\n",
        "Q = y/x"
      ],
      "execution_count": 22,
      "outputs": []
    },
    {
      "cell_type": "code",
      "metadata": {
        "id": "pxmvfgQg6UG6"
      },
      "source": [
        "### Floor Division\n",
        "Qf = w//z\n",
        "Qf"
      ],
      "execution_count": null,
      "outputs": []
    },
    {
      "cell_type": "code",
      "metadata": {
        "colab": {
          "base_uri": "https://localhost:8080/"
        },
        "id": "6tBVhkBM7BWx",
        "outputId": "e619dc95-1187-4ce0-c719-d146b907eb80"
      },
      "source": [
        "### Exponentiation\n",
        "E = w**w"
      ],
      "execution_count": 33,
      "outputs": [
        {
          "output_type": "execute_result",
          "data": {
            "text/plain": [
              "256.0"
            ]
          },
          "metadata": {},
          "execution_count": 33
        }
      ]
    },
    {
      "cell_type": "code",
      "metadata": {
        "id": "YsuqZuxh7WTp"
      },
      "source": [
        "### Modulo\n",
        "mod = z%x\n",
        "mod"
      ],
      "execution_count": null,
      "outputs": []
    },
    {
      "cell_type": "markdown",
      "metadata": {
        "id": "I2ILqwwQ7qem"
      },
      "source": [
        "### Assignment"
      ]
    },
    {
      "cell_type": "code",
      "metadata": {
        "id": "cbM6-UD97e3_"
      },
      "source": [
        "A, B, C, D, E = 0, 100, 2, 1, 2"
      ],
      "execution_count": 37,
      "outputs": []
    },
    {
      "cell_type": "code",
      "metadata": {
        "id": "-kMq2DO772hk"
      },
      "source": [
        "A += w\n"
      ],
      "execution_count": null,
      "outputs": []
    },
    {
      "cell_type": "code",
      "metadata": {
        "id": "xJRbWRF38NT7"
      },
      "source": [
        "B -= x\n",
        "B"
      ],
      "execution_count": null,
      "outputs": []
    },
    {
      "cell_type": "code",
      "metadata": {
        "id": "N1aV4I088bPZ"
      },
      "source": [
        "C *= w\n",
        "C"
      ],
      "execution_count": null,
      "outputs": []
    },
    {
      "cell_type": "code",
      "metadata": {
        "id": "TuW9OtIe9SyM"
      },
      "source": [
        "D /= x"
      ],
      "execution_count": null,
      "outputs": []
    },
    {
      "cell_type": "code",
      "metadata": {
        "id": "2rhYhpGf9SqF"
      },
      "source": [
        "E **= y"
      ],
      "execution_count": null,
      "outputs": []
    },
    {
      "cell_type": "markdown",
      "metadata": {
        "id": "VOZCZjU6-Q66"
      },
      "source": [
        "### Comparators"
      ]
    },
    {
      "cell_type": "code",
      "metadata": {
        "id": "mFwJ9p00-T3q"
      },
      "source": [
        "size_1, size_2, size_3 = 1, 2.0, \"1\"\n",
        "true_size = 1.0"
      ],
      "execution_count": 77,
      "outputs": []
    },
    {
      "cell_type": "code",
      "metadata": {
        "id": "0mulfEhT-f1F"
      },
      "source": [
        "## Equality\n",
        "size_1 == true_size"
      ],
      "execution_count": null,
      "outputs": []
    },
    {
      "cell_type": "code",
      "metadata": {
        "colab": {
          "base_uri": "https://localhost:8080/"
        },
        "id": "jdZVHdvA-1ci",
        "outputId": "111618fe-6c9f-45b9-eda4-76e223c7d171"
      },
      "source": [
        "## Non-Equality\n",
        "size_2 != true_size"
      ],
      "execution_count": 79,
      "outputs": [
        {
          "output_type": "execute_result",
          "data": {
            "text/plain": [
              "True"
            ]
          },
          "metadata": {},
          "execution_count": 79
        }
      ]
    },
    {
      "cell_type": "code",
      "metadata": {
        "id": "DcyI3jUY--25"
      },
      "source": [
        "## Inequality\n",
        "s1 = size_1 > size_2\n",
        "s2 = size_1 < size_2/2\n",
        "s3 = true_size >= size_1\n",
        "s4 = size_2 <= true_size"
      ],
      "execution_count": null,
      "outputs": []
    },
    {
      "cell_type": "markdown",
      "metadata": {
        "id": "j5Q-_ofX_1dD"
      },
      "source": [
        "### Logical"
      ]
    },
    {
      "cell_type": "code",
      "metadata": {
        "id": "VWfJ6uzT_4Wy"
      },
      "source": [
        "size_1 == true_size"
      ],
      "execution_count": null,
      "outputs": []
    },
    {
      "cell_type": "code",
      "metadata": {
        "id": "ZDvrquObAEDy"
      },
      "source": [
        "size_1 is true_size"
      ],
      "execution_count": null,
      "outputs": []
    },
    {
      "cell_type": "code",
      "metadata": {
        "id": "vSD_9m9PAZD6"
      },
      "source": [
        "size_1 is not true_size"
      ],
      "execution_count": null,
      "outputs": []
    },
    {
      "cell_type": "code",
      "metadata": {
        "colab": {
          "base_uri": "https://localhost:8080/"
        },
        "id": "N0L4-DCeAfMx",
        "outputId": "00c39f23-db1c-4284-d439-947f6a19f254"
      },
      "source": [
        "P, Q = True, False\n",
        "conj = P and Q\n",
        "conj"
      ],
      "execution_count": 99,
      "outputs": [
        {
          "output_type": "execute_result",
          "data": {
            "text/plain": [
              "False"
            ]
          },
          "metadata": {},
          "execution_count": 99
        }
      ]
    },
    {
      "cell_type": "code",
      "metadata": {
        "id": "9CeJ6a7CA60S"
      },
      "source": [
        "disj = P or Q\n",
        "disj"
      ],
      "execution_count": null,
      "outputs": []
    },
    {
      "cell_type": "code",
      "metadata": {
        "colab": {
          "base_uri": "https://localhost:8080/"
        },
        "id": "_tUMhXgiBGqh",
        "outputId": "7925db44-865b-484b-e91d-fdd86238f204"
      },
      "source": [
        "nand = not(P and Q)\n",
        "nand"
      ],
      "execution_count": 100,
      "outputs": [
        {
          "output_type": "execute_result",
          "data": {
            "text/plain": [
              "True"
            ]
          },
          "metadata": {},
          "execution_count": 100
        }
      ]
    },
    {
      "cell_type": "code",
      "metadata": {
        "id": "U5c8Jnr9BGeQ"
      },
      "source": [
        "xor = (not P and Q) or (P and not Q)\n",
        "xor"
      ],
      "execution_count": null,
      "outputs": []
    },
    {
      "cell_type": "markdown",
      "metadata": {
        "id": "c81zuLYDBw2y"
      },
      "source": [
        "## Input and Output"
      ]
    },
    {
      "cell_type": "code",
      "metadata": {
        "colab": {
          "base_uri": "https://localhost:8080/"
        },
        "id": "l851HF1LB0jC",
        "outputId": "09f362ee-4495-46a4-bf73-53cfe2f7d08c"
      },
      "source": [
        "print(\"Hello World!\")"
      ],
      "execution_count": 138,
      "outputs": [
        {
          "output_type": "stream",
          "name": "stdout",
          "text": [
            "Hello World!\n"
          ]
        }
      ]
    },
    {
      "cell_type": "code",
      "metadata": {
        "id": "cIarlf07CC0T"
      },
      "source": [
        "cnt = 14000"
      ],
      "execution_count": 105,
      "outputs": []
    },
    {
      "cell_type": "code",
      "metadata": {
        "id": "yy9G_QDvCGQq"
      },
      "source": [
        "string = \"Hello World!\"\n",
        "print(string, \", Current COVID count is:\", cnt)\n",
        "cnt += 10000"
      ],
      "execution_count": null,
      "outputs": []
    },
    {
      "cell_type": "code",
      "metadata": {
        "colab": {
          "base_uri": "https://localhost:8080/"
        },
        "id": "Z7iC2wSeC45d",
        "outputId": "1988706a-6f2a-49be-8913-eebbddbaade8"
      },
      "source": [
        "print(f\"{string}, current count is: {cnt}\")"
      ],
      "execution_count": 118,
      "outputs": [
        {
          "output_type": "stream",
          "name": "stdout",
          "text": [
            "Hello World!, current count is: 64006\n"
          ]
        }
      ]
    },
    {
      "cell_type": "code",
      "metadata": {
        "colab": {
          "base_uri": "https://localhost:8080/"
        },
        "id": "hQLsmcF5Dv4D",
        "outputId": "7c8525c9-9cf0-4c7b-c7f8-18ef92aec745"
      },
      "source": [
        "sem_grade = 86.25\n",
        "name = \"Eugene\"\n",
        "print(\"Hello {}, your semestral grade is: {}\".format(name, sem_grade))"
      ],
      "execution_count": 120,
      "outputs": [
        {
          "output_type": "stream",
          "name": "stdout",
          "text": [
            "Hello Eugene, your semestral grade is: 86.25\n"
          ]
        }
      ]
    },
    {
      "cell_type": "code",
      "metadata": {
        "id": "NDk7HRHoDHqT"
      },
      "source": [
        "pg, mg, fg = 0.3, 0.3, 0.4\n",
        "print(\"The weights of your semestral grades are:\\\n",
        "\\n\\t {:.2%} for Prelims\\\n",
        "\\n\\t {:.2%} for Midterms, and\\\n",
        "\\n\\t {:.2%} for Finals.\".format(pg, mg, fg))"
      ],
      "execution_count": null,
      "outputs": []
    },
    {
      "cell_type": "code",
      "metadata": {
        "id": "xKKNHDc2FcER"
      },
      "source": [
        "e = input(\"Enter a number: \")"
      ],
      "execution_count": null,
      "outputs": []
    },
    {
      "cell_type": "code",
      "metadata": {
        "id": "KFZS53PLFy4a"
      },
      "source": [
        "name = input(\"Enter your name: \")\n",
        "pg = input(\"Enter prelim grade: \")\n",
        "mg = input(\"Enter midterm grade: \")\n",
        "fg = input(\"Enter final grade: \")\n",
        "sem_grade = None\n",
        "print(\"Hello {}, your semestral grade is: {}\".format(name, sem_grade))"
      ],
      "execution_count": null,
      "outputs": []
    },
    {
      "cell_type": "markdown",
      "metadata": {
        "id": "kl9HiQEkLKc2"
      },
      "source": [
        "## Looping Statements"
      ]
    },
    {
      "cell_type": "markdown",
      "metadata": {
        "id": "9Tp2MP1MLRps"
      },
      "source": [
        "## While"
      ]
    },
    {
      "cell_type": "code",
      "metadata": {
        "colab": {
          "base_uri": "https://localhost:8080/"
        },
        "id": "19UlwxaJLUnA",
        "outputId": "8ed63b68-7e9d-4b1e-839e-cb2e840f1b66"
      },
      "source": [
        "## while loops\n",
        "i, j = 0 , 10\n",
        "while(i<=j):\n",
        "    print(f\"{i}\\t|\\t{j}\")\n",
        "    i += 1"
      ],
      "execution_count": 141,
      "outputs": [
        {
          "output_type": "stream",
          "name": "stdout",
          "text": [
            "0\t|\t10\n",
            "1\t|\t10\n",
            "2\t|\t10\n",
            "3\t|\t10\n",
            "4\t|\t10\n",
            "5\t|\t10\n",
            "6\t|\t10\n",
            "7\t|\t10\n",
            "8\t|\t10\n",
            "9\t|\t10\n",
            "10\t|\t10\n"
          ]
        }
      ]
    },
    {
      "cell_type": "markdown",
      "metadata": {
        "id": "dHFbuMuIL4h6"
      },
      "source": [
        "## For"
      ]
    },
    {
      "cell_type": "code",
      "metadata": {
        "id": "1Wn4H7fNL6JZ"
      },
      "source": [
        "# for(int = 0; i<=10; i++){\n",
        "# printf(i)\n",
        "# }\n",
        "\n",
        "i = 0\n",
        "for i in range(11):\n",
        "  print(i)"
      ],
      "execution_count": null,
      "outputs": []
    },
    {
      "cell_type": "code",
      "metadata": {
        "id": "4C2Gcm3MMp5I"
      },
      "source": [
        "playlist = [\"Bahay Kubo\", \"Magandang Kanta\", \"Buko\"]\n",
        "print('Now Playing:\\n')\n",
        "for song in playlist:\n",
        "    print(song)"
      ],
      "execution_count": null,
      "outputs": []
    },
    {
      "cell_type": "markdown",
      "metadata": {
        "id": "dBc1estbNMTh"
      },
      "source": [
        "## Flow Control"
      ]
    },
    {
      "cell_type": "markdown",
      "metadata": {
        "id": "nvjhMPRhNSJ5"
      },
      "source": [
        "### Condition Statements"
      ]
    },
    {
      "cell_type": "code",
      "metadata": {
        "colab": {
          "base_uri": "https://localhost:8080/"
        },
        "id": "pocGkoJ3NUNr",
        "outputId": "dc824671-f070-47c0-d4f3-d1252753ed5d"
      },
      "source": [
        "num_1, num_2 = 14, 12\n",
        "if(num_1 == num_2):\n",
        "    print(\"HAHA\")\n",
        "elif(num_1>num_2):\n",
        "    print(\"HOHO\")\n",
        "else:\n",
        "    print(\"HUHU\")"
      ],
      "execution_count": 149,
      "outputs": [
        {
          "output_type": "stream",
          "name": "stdout",
          "text": [
            "HOHO\n"
          ]
        }
      ]
    },
    {
      "cell_type": "markdown",
      "metadata": {
        "id": "EMHWTqUON7I5"
      },
      "source": [
        "## Functions"
      ]
    },
    {
      "cell_type": "code",
      "metadata": {
        "id": "jEwZAyG7N-Cx"
      },
      "source": [
        "# void DeleteUser (int userid){\n",
        "#   delete(userid); \n",
        "#}\n",
        "\n",
        "def delete_user (userid):\n",
        "    print(\"Successfully deleted user: {}\".format(userid))\n",
        "    "
      ],
      "execution_count": 150,
      "outputs": []
    },
    {
      "cell_type": "code",
      "metadata": {
        "id": "SG_jYuyDObEW"
      },
      "source": [
        "userid = 2020_100100\n",
        "delete_user(2020_100100)\n"
      ],
      "execution_count": null,
      "outputs": []
    },
    {
      "cell_type": "code",
      "metadata": {
        "id": "6F7l77L6OyXq"
      },
      "source": [
        "def add(addend1, addend2):\n",
        "  sum = addend1 + addend2\n",
        "  return sum"
      ],
      "execution_count": 158,
      "outputs": []
    },
    {
      "cell_type": "code",
      "metadata": {
        "colab": {
          "base_uri": "https://localhost:8080/"
        },
        "id": "5aSB8ezkPrYz",
        "outputId": "87f695e9-afd2-46bb-b0ba-612477e09d72"
      },
      "source": [
        "add(5, 4)"
      ],
      "execution_count": 160,
      "outputs": [
        {
          "output_type": "execute_result",
          "data": {
            "text/plain": [
              "9"
            ]
          },
          "metadata": {},
          "execution_count": 160
        }
      ]
    }
  ]
}